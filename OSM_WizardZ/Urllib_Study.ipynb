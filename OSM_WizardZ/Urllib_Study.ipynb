{
 "cells": [
  {
   "cell_type": "code",
   "execution_count": 1,
   "metadata": {},
   "outputs": [],
   "source": [
    "import urllib\n",
    "import json\n",
    "import chardet\n",
    "import osmGet"
   ]
  },
  {
   "cell_type": "code",
   "execution_count": 2,
   "metadata": {},
   "outputs": [],
   "source": [
    "query = \"berkeley\"\n",
    "url = \"https://nominatim.openstreetmap.org/search?q=\" + query + \"&format=json&polygon=0&addressdetails=0&limit=1&callback\""
   ]
  },
  {
   "cell_type": "code",
   "execution_count": 3,
   "metadata": {},
   "outputs": [
    {
     "name": "stdout",
     "output_type": "stream",
     "text": [
      "{'encoding': 'ISO-8859-1', 'confidence': 0.73, 'language': ''}\n",
      "<class 'str'>\n"
     ]
    }
   ],
   "source": [
    "r = urllib.request.urlopen(url)\n",
    "rr = r.read()\n",
    "charset = chardet.detect(rr)\n",
    "print(charset)\n",
    "rr = rr.decode(charset['encoding'])\n",
    "print(type(rr))"
   ]
  },
  {
   "cell_type": "code",
   "execution_count": 4,
   "metadata": {},
   "outputs": [
    {
     "name": "stdout",
     "output_type": "stream",
     "text": [
      "{'place_id': 198436583, 'licence': 'Data Â© OpenStreetMap contributors, ODbL 1.0. https://osm.org/copyright', 'osm_type': 'relation', 'osm_id': 2833528, 'boundingbox': ['37.835727', '37.9066896', '-122.3686793', '-122.2341962'], 'lat': '37.8708393', 'lon': '-122.2728639', 'display_name': 'Berkeley, Alameda County, California, USA', 'class': 'place', 'type': 'city', 'importance': 0.685505117607742, 'icon': 'https://nominatim.openstreetmap.org/images/mapicons/poi_place_city.p.20.png'}\n"
     ]
    }
   ],
   "source": [
    "s = json.loads(rr[1:-1])\n",
    "print(s)"
   ]
  },
  {
   "cell_type": "code",
   "execution_count": 15,
   "metadata": {},
   "outputs": [
    {
     "name": "stdout",
     "output_type": "stream",
     "text": [
      "['37.835727', '37.9066896', '-122.3686793', '-122.2341962']\n",
      "37.835727,37.9066896,-122.3686793,-122.2341962\n",
      "[37.835727, 37.9066896, -122.3686793, -122.2341962]\n"
     ]
    }
   ],
   "source": [
    "print(s['boundingbox'])\n",
    "bbox = s['boundingbox'][0]+','+s['boundingbox'][1]+','+s['boundingbox'][2]+','+s['boundingbox'][3]\n",
    "print(bbox)\n",
    "bbox = [float(s['boundingbox'][0]),float(s['boundingbox'][1]),float(s['boundingbox'][2]),float(s['boundingbox'][3])]\n",
    "print(bbox)"
   ]
  },
  {
   "cell_type": "code",
   "execution_count": 12,
   "metadata": {},
   "outputs": [
    {
     "name": "stderr",
     "output_type": "stream",
     "text": [
      "Usage: ipykernel_launcher.py [options]\n",
      "\n",
      "ipykernel_launcher.py: error: Invalid geocoordinates in bbox.\n"
     ]
    },
    {
     "ename": "SystemExit",
     "evalue": "2",
     "output_type": "error",
     "traceback": [
      "An exception has occurred, use %tb to see the full traceback.\n",
      "\u001b[0;31mSystemExit\u001b[0m\u001b[0;31m:\u001b[0m 2\n"
     ]
    },
    {
     "name": "stderr",
     "output_type": "stream",
     "text": [
      "/home/xiyu/anaconda3/lib/python3.7/site-packages/IPython/core/interactiveshell.py:3333: UserWarning: To exit: use 'exit', 'quit', or Ctrl-D.\n",
      "  warn(\"To exit: use 'exit', 'quit', or Ctrl-D.\", stacklevel=1)\n"
     ]
    }
   ],
   "source": [
    "osmGet.get([\"-b\", bbox])"
   ]
  },
  {
   "cell_type": "code",
   "execution_count": null,
   "metadata": {},
   "outputs": [],
   "source": []
  }
 ],
 "metadata": {
  "kernelspec": {
   "display_name": "Python 3",
   "language": "python",
   "name": "python3"
  },
  "language_info": {
   "codemirror_mode": {
    "name": "ipython",
    "version": 3
   },
   "file_extension": ".py",
   "mimetype": "text/x-python",
   "name": "python",
   "nbconvert_exporter": "python",
   "pygments_lexer": "ipython3",
   "version": "3.7.3"
  }
 },
 "nbformat": 4,
 "nbformat_minor": 2
}
