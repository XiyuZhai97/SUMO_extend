{
 "cells": [
  {
   "cell_type": "code",
   "execution_count": 24,
   "metadata": {},
   "outputs": [],
   "source": [
    "import xml.etree.ElementTree as ET\n",
    "import requests\n",
    "import pandas as pd\n",
    "# script for returning elevation from lat, long, based on open elevation data\n",
    "# which in turn is based on SRTM\n",
    "# not support any more see in open-elevation\n",
    "# need build own open elevation\n",
    "\n",
    "def get_elevation(lat, long): \n",
    "    query = ('http://192.168.0.131:10000/api/v1/lookup'\n",
    "             f'?locations={lat},{long}')\n",
    "    r = requests.get(query).json()  # json object, various ways you can extract value\n",
    "    # one approach is to use pandas json functionality:\n",
    "    elevation = pd.io.json.json_normalize(r, 'results')['elevation'].values[0]\n",
    "    return elevation\n",
    "def elevation(lat, lng):\n",
    "    apikey = \"USE YOUR OWN KEY !!!\"\n",
    "    url = \"https://maps.googleapis.com/maps/api/elevation/json\"\n",
    "    request = requests.get(url+\"?locations=\"+str(lat)+\",\"+str(lng)+\"&key=\"+apikey)\n",
    "    try:\n",
    "        results = json.loads(request.text).get('results')\n",
    "        if 0 < len(results):\n",
    "            elevation = results[0].get('elevation')\n",
    "            #resolution = results[0].get('resolution') # for RESOLUTION\n",
    "            # ELEVATION\n",
    "            return elevation\n",
    "        else:\n",
    "            print('HTTP GET Request failed.')\n",
    "    except ValueError as e:\n",
    "        print('JSON decode failed: '+str(request) + str(e))"
   ]
  },
  {
   "cell_type": "code",
   "execution_count": 25,
   "metadata": {},
   "outputs": [
    {
     "data": {
      "text/plain": [
       "9"
      ]
     },
     "execution_count": 25,
     "metadata": {},
     "output_type": "execute_result"
    }
   ],
   "source": [
    "lat=37.8274723\n",
    "lon=-122.2832012\n",
    "z = get_elevation(lat,lon)\n",
    "z"
   ]
  },
  {
   "cell_type": "code",
   "execution_count": 32,
   "metadata": {},
   "outputs": [
    {
     "name": "stdout",
     "output_type": "stream",
     "text": [
      "get ele for 0 nodes, time used:0.7248704433441162\n",
      "get ele for 0 nodes, time used:0.725006103515625\n",
      "get ele for 0 nodes, time used:0.7250275611877441\n",
      "get ele for 10000 nodes, time used:63.340635538101196\n",
      "get ele for 20000 nodes, time used:118.23824381828308\n",
      "get ele for 30000 nodes, time used:175.0595862865448\n",
      "Time consuming: -233.2725110054016\n"
     ]
    }
   ],
   "source": [
    "xmlfile = \"./emeryville2019-10-19-19-39-33/osm_ele.osm.xml\"\n",
    "import time\n",
    "def get_latlon(element):\n",
    "    lat = element.attrib['lat']\n",
    "    lon = element.attrib['lon']\n",
    "    return lat, lon\n",
    "def add_Ele(xmlfile):\n",
    "    start = time.time()\n",
    "    tree_n = ET.parse(xmlfile)\n",
    "    root_n = tree_n.getroot()\n",
    "    i = 0\n",
    "    for element in root_n:\n",
    "        if(i%10000 == 0):\n",
    "            end = time.time()\n",
    "            print('Get ele for {0} nodes, time consuming:{1}'.format(i,end-start))\n",
    "        if(element.tag=='node'):\n",
    "            tag_ele = ET.Element(\"tag\")\n",
    "            tag_ele.set('k','ele')\n",
    "            lat,lon = get_latlon(element)\n",
    "            ele = get_elevation(lat, lon)\n",
    "            tag_ele.set('v',str(ele))\n",
    "            element.append(tag_ele)\n",
    "            i += 1\n",
    "    tree_n.write(xmlfile)\n",
    "    end = time.time()\n",
    "    print('Get ele for {0} nodes, time consuming:{1}'.format(i,end-start))\n",
    "add_Ele(xmlfile)"
   ]
  },
  {
   "cell_type": "code",
   "execution_count": 2,
   "metadata": {},
   "outputs": [
    {
     "data": {
      "text/plain": [
       "<matplotlib.collections.PathCollection at 0x7f84d79ffeb8>"
      ]
     },
     "execution_count": 2,
     "metadata": {},
     "output_type": "execute_result"
    },
    {
     "data": {
      "image/png": "[encoded data removed]",
      "text/plain": [
       "<Figure size 432x288 with 1 Axes>"
      ]
     },
     "metadata": {
      "needs_background": "light"
     },
     "output_type": "display_data"
    }
   ],
   "source": [
    "import matplotlib.pyplot as plt\n",
    "Y=[506.40, 493.60, 493.16, 492.60, 491.82, 490.82, 489.60, 489.60, 491.82, 492.60, 493.16, 493.49, 493.60, 506.40]\n",
    "X=[510.40, 510.40, 508.18, 507.40, 506.84, 506.51, 506.40, 493.60, 493.16, 492.60, 491.82, 490.82, 489.60, 489.60]\n",
    "plt.scatter(X, Y)\n",
    "XY=[9843.09,1555.33,9855.83,1554.05,9855.74,1552.96,9855.76,1552.57,9855.83,1552.19,9855.97,1551.74,9856.17,1551.14,9850.13,1549.03,9848.41,1547.80,9842.26,1550.16\n",
    "]\n",
    "X=[]\n",
    "Y=[]\n",
    "i = 0\n",
    "while i <len(XY):\n",
    "    if i%2 == 0:\n",
    "        X.append(XY[i])\n",
    "    else:\n",
    "        Y.append(XY[i])\n",
    "    i += 1\n",
    "plt.scatter(X, Y)"
   ]
  }
 ],
 "metadata": {
  "kernelspec": {
   "display_name": "Python 3",
   "language": "python",
   "name": "python3"
  },
  "language_info": {
   "codemirror_mode": {
    "name": "ipython",
    "version": 3
   },
   "file_extension": ".py",
   "mimetype": "text/x-python",
   "name": "python",
   "nbconvert_exporter": "python",
   "pygments_lexer": "ipython3",
   "version": "3.7.3"
  }
 },
 "nbformat": 4,
 "nbformat_minor": 2
}
